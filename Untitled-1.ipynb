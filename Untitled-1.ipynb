{
 "cells": [
  {
   "cell_type": "code",
   "execution_count": null,
   "metadata": {},
   "outputs": [],
   "source": [
    "import pandas as pd\n",
    "import numpy as np\n",
    "#load data\n",
    "diabetes_csv = pd.read_csv(r'E:\\\\diabetes.csv')#Disesuaikan dengan tempat penyimpanan file csv Dataset diabetes\n",
    "#load dataset ke dalam dataframe\n",
    "df_diabetes = "
   ]
  }
 ],
 "metadata": {
  "kernelspec": {
   "display_name": "base",
   "language": "python",
   "name": "python3"
  },
  "language_info": {
   "name": "python",
   "version": "3.12.4"
  }
 },
 "nbformat": 4,
 "nbformat_minor": 2
}
